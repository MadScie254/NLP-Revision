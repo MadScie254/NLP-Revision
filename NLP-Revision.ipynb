{
 "cells": [
  {
   "cell_type": "markdown",
   "id": "b0a03aa8-3a45-49d1-9935-284947921809",
   "metadata": {},
   "source": [
    "# **FULL NLP PROJECT: END-TO-END + EXPLAINED FOR EASY REVISION**\n",
    "\n",
    "---\n",
    "\n",
    "## GOAL:\n",
    "\n",
    "Build a complete **Text Classification NLP project** using **TensorFlow Datasets (TFDS)**.\n",
    "\n",
    "We'll do this using:\n",
    "✅ **Real-world dataset**\n",
    "✅ **Clean code with rich explanations**\n",
    "✅ **Concept-by-concept breakdown for mastery + revision**\n",
    "✅ **Model training, evaluation, and inference**\n",
    "\n",
    "---\n",
    "\n",
    "## PROJECT: Sentiment Analysis on Movie Reviews\n",
    "\n",
    "Using: **IMDb dataset from TensorFlow Datasets**\n",
    "\n",
    "\n",
    "## STAGE 0: What Is Sentiment Analysis?\n",
    "\n",
    "> Sentiment Analysis = Letting machines detect if text is **positive**, **negative**, or **neutral**.\n",
    "\n",
    "**Why this project?**\n",
    "\n",
    "* Real-world use: reviews, tweets, customer support, finance, politics\n",
    "* Clean binary classification: only **positive** or **negative**\n",
    "* Rich, balanced, huge dataset\n",
    "\n",
    "\n",
    "\n",
    "## 📘 REVISION CHEATSHEET\n",
    "\n",
    "| Step      | Code                     | Concept                    |\n",
    "| --------- | ------------------------ | -------------------------- |\n",
    "| Load Data | `tfds.load(...)`         | Use real-world text (IMDb) |\n",
    "| Tokenize  | `TextVectorization(...)` | Turn text to numbers       |\n",
    "| Vectorize | `map(vectorize_text)`    | Uniform input              |\n",
    "| Model     | `Sequential([...])`      | Embed → Pool → Dense       |\n",
    "| Train     | `model.fit(...)`         | Learn patterns             |\n",
    "| Predict   | `model.predict(...)`     | Get probability            |\n",
    "| Save/Load | `model.save()`           | Deploy-ready               |\n"
   ]
  },
  {
   "cell_type": "code",
   "execution_count": 1,
   "id": "aa0c269d-663d-4d5a-a54e-e2910bf2d455",
   "metadata": {},
   "outputs": [
    {
     "ename": "ModuleNotFoundError",
     "evalue": "No module named 'tensorflow'",
     "output_type": "error",
     "traceback": [
      "\u001b[1;31m---------------------------------------------------------------------------\u001b[0m",
      "\u001b[1;31mModuleNotFoundError\u001b[0m                       Traceback (most recent call last)",
      "Cell \u001b[1;32mIn[1], line 2\u001b[0m\n\u001b[0;32m      1\u001b[0m \u001b[38;5;66;03m# Import datasets\u001b[39;00m\n\u001b[1;32m----> 2\u001b[0m \u001b[38;5;28;01mimport\u001b[39;00m\u001b[38;5;250m \u001b[39m\u001b[38;5;21;01mtensorflow\u001b[39;00m\u001b[38;5;250m \u001b[39m\u001b[38;5;28;01mas\u001b[39;00m\u001b[38;5;250m \u001b[39m\u001b[38;5;21;01mtf\u001b[39;00m\n\u001b[0;32m      3\u001b[0m \u001b[38;5;28;01mimport\u001b[39;00m\u001b[38;5;250m \u001b[39m\u001b[38;5;21;01mtensorflow_datasets\u001b[39;00m\u001b[38;5;250m \u001b[39m\u001b[38;5;28;01mas\u001b[39;00m\u001b[38;5;250m \u001b[39m\u001b[38;5;21;01mtfds\u001b[39;00m\n\u001b[0;32m      4\u001b[0m \u001b[38;5;28;01mimport\u001b[39;00m\u001b[38;5;250m \u001b[39m\u001b[38;5;21;01mnumpy\u001b[39;00m\u001b[38;5;250m \u001b[39m\u001b[38;5;28;01mas\u001b[39;00m\u001b[38;5;250m \u001b[39m\u001b[38;5;21;01mnp\u001b[39;00m\n",
      "\u001b[1;31mModuleNotFoundError\u001b[0m: No module named 'tensorflow'"
     ]
    }
   ],
   "source": [
    "# Import datasets\n",
    "import tensorflow as tf\n",
    "import tensorflow_datasets as tfds\n",
    "import numpy as np\n",
    "import matplotlib.pyplot as plt"
   ]
  },
  {
   "cell_type": "code",
   "execution_count": 3,
   "id": "71b1a09f-5581-4017-b8cd-f9d06bcbc462",
   "metadata": {},
   "outputs": [
    {
     "name": "stdout",
     "output_type": "stream",
     "text": [
      "Note: you may need to restart the kernel to use updated packages.\n"
     ]
    },
    {
     "name": "stderr",
     "output_type": "stream",
     "text": [
      "ERROR: Could not find a version that satisfies the requirement tensorflow==2.13 (from versions: none)\n",
      "ERROR: No matching distribution found for tensorflow==2.13\n"
     ]
    }
   ],
   "source": [
    "pip install tensorflow==2.13"
   ]
  },
  {
   "cell_type": "code",
   "execution_count": null,
   "id": "06d4c906-1cb8-4df2-a1b5-61f0bb3cf88e",
   "metadata": {},
   "outputs": [],
   "source": []
  },
  {
   "cell_type": "code",
   "execution_count": null,
   "id": "a3cc79c9-a0f3-4388-b64a-04142e80bc57",
   "metadata": {},
   "outputs": [],
   "source": []
  },
  {
   "cell_type": "code",
   "execution_count": null,
   "id": "1627a402-31d2-4821-80da-1a53d3ca93bf",
   "metadata": {},
   "outputs": [],
   "source": []
  },
  {
   "cell_type": "code",
   "execution_count": null,
   "id": "5b4dbbed-3f47-4fb9-95a0-42cda5e47651",
   "metadata": {},
   "outputs": [],
   "source": []
  },
  {
   "cell_type": "code",
   "execution_count": null,
   "id": "8ece55de-02e8-4672-bb68-452e62144d69",
   "metadata": {},
   "outputs": [],
   "source": []
  },
  {
   "cell_type": "code",
   "execution_count": null,
   "id": "e46abc3d-38de-4bdc-9ee3-bb5fd0e20735",
   "metadata": {},
   "outputs": [],
   "source": []
  },
  {
   "cell_type": "code",
   "execution_count": null,
   "id": "3cd2cd98-c4aa-4f8e-a09d-d0b5e2a5c474",
   "metadata": {},
   "outputs": [],
   "source": []
  },
  {
   "cell_type": "code",
   "execution_count": null,
   "id": "d78bc532-a23b-4760-acaa-e87e7b2afec8",
   "metadata": {},
   "outputs": [],
   "source": []
  },
  {
   "cell_type": "code",
   "execution_count": null,
   "id": "2b4cbe43-96f3-45b8-9a92-1c6d8e2f4d32",
   "metadata": {},
   "outputs": [],
   "source": []
  },
  {
   "cell_type": "code",
   "execution_count": null,
   "id": "0008945a-d4a6-4d97-ab34-276bf76c89cd",
   "metadata": {},
   "outputs": [],
   "source": []
  },
  {
   "cell_type": "code",
   "execution_count": null,
   "id": "688255ee-140c-4a5c-b888-b227c3afa949",
   "metadata": {},
   "outputs": [],
   "source": []
  },
  {
   "cell_type": "code",
   "execution_count": null,
   "id": "ed3e54b8-1b47-451a-8cb7-0a245328007f",
   "metadata": {},
   "outputs": [],
   "source": []
  },
  {
   "cell_type": "code",
   "execution_count": null,
   "id": "ba087bdb-50da-4839-9143-33f49c147e62",
   "metadata": {},
   "outputs": [],
   "source": []
  },
  {
   "cell_type": "code",
   "execution_count": null,
   "id": "43910234-e175-4c49-bfdb-3328ccd426de",
   "metadata": {},
   "outputs": [],
   "source": []
  },
  {
   "cell_type": "code",
   "execution_count": null,
   "id": "068def15-2dcc-4cf5-b3f9-beb09969bd42",
   "metadata": {},
   "outputs": [],
   "source": []
  },
  {
   "cell_type": "code",
   "execution_count": null,
   "id": "987c35e0-12b5-4b8f-af0d-f56a02528c7e",
   "metadata": {},
   "outputs": [],
   "source": []
  },
  {
   "cell_type": "code",
   "execution_count": null,
   "id": "ac6cdef6-43e2-401c-b333-c2b9d2a29d36",
   "metadata": {},
   "outputs": [],
   "source": []
  },
  {
   "cell_type": "code",
   "execution_count": null,
   "id": "078c01ff-25db-4425-a559-6782a26cd7b2",
   "metadata": {},
   "outputs": [],
   "source": []
  },
  {
   "cell_type": "code",
   "execution_count": null,
   "id": "c3e0e2ac-f3cc-4aaa-a417-b4e4f1647023",
   "metadata": {},
   "outputs": [],
   "source": []
  },
  {
   "cell_type": "code",
   "execution_count": null,
   "id": "ccaa2489-065c-40f9-885c-966d02357935",
   "metadata": {},
   "outputs": [],
   "source": []
  },
  {
   "cell_type": "code",
   "execution_count": null,
   "id": "3646dbaf-94f4-4556-ace4-01f6a9e87ddf",
   "metadata": {},
   "outputs": [],
   "source": []
  },
  {
   "cell_type": "code",
   "execution_count": null,
   "id": "c318edc0-6ad0-408e-972c-ff10d1741f45",
   "metadata": {},
   "outputs": [],
   "source": []
  },
  {
   "cell_type": "code",
   "execution_count": null,
   "id": "14829772-57f7-4cdd-b54e-900c7b30c86d",
   "metadata": {},
   "outputs": [],
   "source": []
  },
  {
   "cell_type": "code",
   "execution_count": null,
   "id": "deedc060-5ea9-442b-85e9-b4f0ce1e5969",
   "metadata": {},
   "outputs": [],
   "source": []
  },
  {
   "cell_type": "code",
   "execution_count": null,
   "id": "793b72fa-6a41-4e16-9ce2-f0ef70686e7d",
   "metadata": {},
   "outputs": [],
   "source": []
  },
  {
   "cell_type": "code",
   "execution_count": null,
   "id": "323f9545-974e-4b88-bafb-7f0e612327a6",
   "metadata": {},
   "outputs": [],
   "source": []
  },
  {
   "cell_type": "code",
   "execution_count": null,
   "id": "111501e5-3231-4ba5-80f7-fce16b33064c",
   "metadata": {},
   "outputs": [],
   "source": []
  },
  {
   "cell_type": "code",
   "execution_count": null,
   "id": "9e05a9db-d20d-4c8c-87b4-8214faea827e",
   "metadata": {},
   "outputs": [],
   "source": []
  },
  {
   "cell_type": "code",
   "execution_count": null,
   "id": "6300acdf-9b48-400e-896c-474f80f3314c",
   "metadata": {},
   "outputs": [],
   "source": []
  },
  {
   "cell_type": "code",
   "execution_count": null,
   "id": "00d4de70-df5f-4b9f-a515-185751a7c75e",
   "metadata": {},
   "outputs": [],
   "source": []
  },
  {
   "cell_type": "code",
   "execution_count": null,
   "id": "a26d3e69-b970-410c-9c52-079691977482",
   "metadata": {},
   "outputs": [],
   "source": []
  },
  {
   "cell_type": "code",
   "execution_count": null,
   "id": "bb730886-c068-4842-a0a7-8e3c643caeaf",
   "metadata": {},
   "outputs": [],
   "source": []
  },
  {
   "cell_type": "code",
   "execution_count": null,
   "id": "97d0dbb7-37be-4ac8-ba0d-c8794ad5966b",
   "metadata": {},
   "outputs": [],
   "source": []
  },
  {
   "cell_type": "code",
   "execution_count": null,
   "id": "51de31b1-62d2-4df2-9079-7f0d15fc66a1",
   "metadata": {},
   "outputs": [],
   "source": []
  },
  {
   "cell_type": "code",
   "execution_count": null,
   "id": "58e5653f-fed4-4664-aad0-215b68373ddd",
   "metadata": {},
   "outputs": [],
   "source": []
  },
  {
   "cell_type": "code",
   "execution_count": null,
   "id": "9afe02be-66bd-46a4-8be0-ad5d245add50",
   "metadata": {},
   "outputs": [],
   "source": []
  },
  {
   "cell_type": "code",
   "execution_count": null,
   "id": "67ca8606-e1b1-49a5-a22f-22675e947886",
   "metadata": {},
   "outputs": [],
   "source": []
  },
  {
   "cell_type": "code",
   "execution_count": null,
   "id": "653641c0-6cb9-4f5f-bc68-8d7e2f63a6b9",
   "metadata": {},
   "outputs": [],
   "source": []
  },
  {
   "cell_type": "code",
   "execution_count": null,
   "id": "0ab3fa3c-e404-4f1a-8d44-78c19c67d9db",
   "metadata": {},
   "outputs": [],
   "source": []
  },
  {
   "cell_type": "code",
   "execution_count": null,
   "id": "01878c5c-b485-4b20-a608-90bd47149eab",
   "metadata": {},
   "outputs": [],
   "source": []
  },
  {
   "cell_type": "code",
   "execution_count": null,
   "id": "83ee8ada-fa1d-47f5-8c5b-d6dbf120eade",
   "metadata": {},
   "outputs": [],
   "source": []
  },
  {
   "cell_type": "code",
   "execution_count": null,
   "id": "e957001c-c9c8-44b1-a313-c24e037e3e97",
   "metadata": {},
   "outputs": [],
   "source": []
  },
  {
   "cell_type": "code",
   "execution_count": null,
   "id": "bda3064a-4d82-4219-81a0-3158d125e5b4",
   "metadata": {},
   "outputs": [],
   "source": []
  },
  {
   "cell_type": "code",
   "execution_count": null,
   "id": "13e4e9f2-ad68-480e-8138-950e954a7f62",
   "metadata": {},
   "outputs": [],
   "source": []
  },
  {
   "cell_type": "code",
   "execution_count": null,
   "id": "424ae0b1-0e88-4de1-b64a-db55fc48e9d6",
   "metadata": {},
   "outputs": [],
   "source": []
  },
  {
   "cell_type": "code",
   "execution_count": null,
   "id": "e50ae027-581a-4075-9e1d-0368ee88d3e2",
   "metadata": {},
   "outputs": [],
   "source": []
  },
  {
   "cell_type": "code",
   "execution_count": null,
   "id": "5c64f7af-4f19-4b27-9ec0-0e7c2a32ec77",
   "metadata": {},
   "outputs": [],
   "source": []
  },
  {
   "cell_type": "code",
   "execution_count": null,
   "id": "48b612d3-5837-42fa-8741-e62ee106920d",
   "metadata": {},
   "outputs": [],
   "source": []
  },
  {
   "cell_type": "code",
   "execution_count": null,
   "id": "23a19144-acf3-45d8-97ae-38146c84f32c",
   "metadata": {},
   "outputs": [],
   "source": []
  },
  {
   "cell_type": "code",
   "execution_count": null,
   "id": "a1a0f320-0f62-445e-8ed7-049679917da4",
   "metadata": {},
   "outputs": [],
   "source": []
  },
  {
   "cell_type": "code",
   "execution_count": null,
   "id": "59994383-1d11-4748-aa79-bbcf5f66207a",
   "metadata": {},
   "outputs": [],
   "source": []
  },
  {
   "cell_type": "code",
   "execution_count": null,
   "id": "80aad113-8c7e-408e-b70b-732a7285230c",
   "metadata": {},
   "outputs": [],
   "source": []
  },
  {
   "cell_type": "code",
   "execution_count": null,
   "id": "0eac27fa-aa62-441a-bf98-6cecf43d98d4",
   "metadata": {},
   "outputs": [],
   "source": []
  },
  {
   "cell_type": "code",
   "execution_count": null,
   "id": "030d90c9-afb0-4051-836e-512e530c85cf",
   "metadata": {},
   "outputs": [],
   "source": []
  },
  {
   "cell_type": "code",
   "execution_count": null,
   "id": "d1a6cb6f-e86a-4144-81a3-07a16c358713",
   "metadata": {},
   "outputs": [],
   "source": []
  },
  {
   "cell_type": "code",
   "execution_count": null,
   "id": "b8718161-7273-4c21-bef2-b4565a96dd40",
   "metadata": {},
   "outputs": [],
   "source": []
  },
  {
   "cell_type": "code",
   "execution_count": null,
   "id": "9ab9a927-ec70-4996-8e45-2d055e3cd5b6",
   "metadata": {},
   "outputs": [],
   "source": []
  }
 ],
 "metadata": {
  "kernelspec": {
   "display_name": "Python 3 (ipykernel)",
   "language": "python",
   "name": "python3"
  },
  "language_info": {
   "codemirror_mode": {
    "name": "ipython",
    "version": 3
   },
   "file_extension": ".py",
   "mimetype": "text/x-python",
   "name": "python",
   "nbconvert_exporter": "python",
   "pygments_lexer": "ipython3",
   "version": "3.13.5"
  }
 },
 "nbformat": 4,
 "nbformat_minor": 5
}
